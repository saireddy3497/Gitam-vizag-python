{
 "cells": [
  {
   "cell_type": "code",
   "execution_count": 1,
   "metadata": {},
   "outputs": [
    {
     "name": "stdout",
     "output_type": "stream",
     "text": [
      "Enter number :5\n",
      "12345"
     ]
    }
   ],
   "source": [
    "# print number form 1 to n\n",
    "# input :10\n",
    "#output : 1 2 3 4 5......10\n",
    "n = int (input('Enter number :'))\n",
    "i = 1\n",
    "while i <= n:\n",
    "    print (i,end=\"\")\n",
    "    i = i+1\n",
    "               "
   ]
  },
  {
   "cell_type": "code",
   "execution_count": 1,
   "metadata": {},
   "outputs": [
    {
     "name": "stdout",
     "output_type": "stream",
     "text": [
      "5\n",
      "6\n"
     ]
    }
   ],
   "source": [
    "# Read a number as input\n",
    "# Output as only even numbers sum from 1 to n\n",
    "\n",
    "# input : 10\n",
    "#output : 30 (2+4+8+10)\n",
    "n = int(input(''))\n",
    "i = 1\n",
    "s = 0\n",
    "while i <=n:\n",
    "    if i % 2 == 0:\n",
    "        s = s +i\n",
    "    i = i+1\n",
    "print(s)"
   ]
  },
  {
   "cell_type": "code",
   "execution_count": 2,
   "metadata": {},
   "outputs": [
    {
     "name": "stdout",
     "output_type": "stream",
     "text": [
      "123\n",
      "3 2 1 "
     ]
    }
   ],
   "source": [
    "# Read a number as input\n",
    "# Output has be Digits of the number\n",
    "\n",
    "# Input : 123 \n",
    "# Output : 3 2 1\n",
    "\n",
    "n = int(input(''))\n",
    "while n != 0 :\n",
    "    print(n%10,end=' ')\n",
    "    n = n // 10"
   ]
  },
  {
   "cell_type": "markdown",
   "metadata": {},
   "source": [
    "### Functional programming\n",
    "- Simple\n",
    "- Easy Understand\n",
    "- Better Reuseability\n",
    "- Lengthy Program will be divided into Sub programs "
   ]
  },
  {
   "cell_type": "code",
   "execution_count": null,
   "metadata": {},
   "outputs": [],
   "source": [
    "def nameoftheFunction(<Parameters>):\n",
    "    Statements\n",
    "    return"
   ]
  },
  {
   "cell_type": "code",
   "execution_count": 2,
   "metadata": {},
   "outputs": [
    {
     "data": {
      "text/plain": [
       "6"
      ]
     },
     "execution_count": 2,
     "metadata": {},
     "output_type": "execute_result"
    }
   ],
   "source": [
    "# Read a number\n",
    "# print the Even digit sum from the number\n",
    "# Input : 1234\n",
    "# Output : 6(2+4)\n",
    "\n",
    "def evenDigitSum(n):\n",
    "        s = 0\n",
    "        while n != 0:\n",
    "            r = n % 10\n",
    "            if r % 2 == 0:\n",
    "                s = s + r\n",
    "            n = n // 10\n",
    "        return s\n",
    "evenDigitSum(1234)"
   ]
  },
  {
   "cell_type": "code",
   "execution_count": 4,
   "metadata": {},
   "outputs": [
    {
     "data": {
      "text/plain": [
       "9"
      ]
     },
     "execution_count": 4,
     "metadata": {},
     "output_type": "execute_result"
    }
   ],
   "source": [
    "# Input : 19535\n",
    "# Output : 9 (Large digit of the given number)\n",
    "# Functional programming\n",
    "def largeDigit(n):\n",
    "    large = 0\n",
    "    while n != 0:\n",
    "        r = n % 10\n",
    "        if large < r :\n",
    "            large = r\n",
    "        n = n // 10\n",
    "    return large\n",
    "largeDigit(19535)"
   ]
  },
  {
   "cell_type": "code",
   "execution_count": 18,
   "metadata": {},
   "outputs": [
    {
     "name": "stdout",
     "output_type": "stream",
     "text": [
      "no\n",
      "no\n"
     ]
    }
   ],
   "source": [
    "# Read a number as input \n",
    "# Output yes or No\n",
    "\n",
    "# input : 145\n",
    "# Output : yes\n",
    "\n",
    "# input : 123\n",
    "# Output : No\n",
    "\n",
    "# Individual Digit factorial sum is same as input number\n",
    "def factorial(n):\n",
    "    fact = 1\n",
    "    i = 1\n",
    "    while i <= n:\n",
    "        fact = fact * i\n",
    "        i = i + 1\n",
    "        return fact\n",
    "    \n",
    "def digitfactsum(n):\n",
    "    s = 0\n",
    "    buffer = n\n",
    "    while n != 0:\n",
    "        r = n % 10\n",
    "        s += factorial(r)\n",
    "        n = n // 10\n",
    "    if buffer == s:\n",
    "        return \"yes\"\n",
    "    else :\n",
    "        return \"no\"\n",
    "    return\n",
    "print(digitfactsum(145)) #Yes\n",
    "print(digitfactsum(123)) #No"
   ]
  },
  {
   "cell_type": "code",
   "execution_count": 15,
   "metadata": {},
   "outputs": [
    {
     "name": "stdout",
     "output_type": "stream",
     "text": [
      "palindrome\n",
      "Not a palindrome\n"
     ]
    }
   ],
   "source": [
    "# Read a number as input\n",
    "# Outpuut as pal indrome or Not a palindrome\n",
    "# palindrome -- A number after reversing is same as the original number\n",
    "\n",
    "# Input : 121\n",
    "# Output : palindrome\n",
    "\n",
    "# Input :123\n",
    "# Output : Not a palindrome\n",
    "\n",
    "def ispalindrome(n):\n",
    "    rev = 0\n",
    "    buffer = n\n",
    "    while  n != 0:\n",
    "        rev = rev * 10 +(n%10)\n",
    "        n = n//10\n",
    "        if buffer == rev:\n",
    "            return \"palindrome\"\n",
    "    return \"Not a palindrome\"\n",
    "print(ispalindrome(121)) # palindrome\n",
    "print(ispalindrome(123)) # Not a palindrome"
   ]
  },
  {
   "cell_type": "code",
   "execution_count": null,
   "metadata": {},
   "outputs": [],
   "source": [
    "# Function to print  the numbers between two limits\n",
    "# Input : 11 25\n",
    "# Output : 11"
   ]
  },
  {
   "cell_type": "code",
   "execution_count": null,
   "metadata": {},
   "outputs": [],
   "source": [
    "# function to print the alternate numbers"
   ]
  },
  {
   "cell_type": "code",
   "execution_count": null,
   "metadata": {},
   "outputs": [],
   "source": []
  },
  {
   "cell_type": "code",
   "execution_count": null,
   "metadata": {},
   "outputs": [],
   "source": []
  },
  {
   "cell_type": "code",
   "execution_count": null,
   "metadata": {},
   "outputs": [],
   "source": []
  }
 ],
 "metadata": {
  "kernelspec": {
   "display_name": "Python 3",
   "language": "python",
   "name": "python3"
  },
  "language_info": {
   "codemirror_mode": {
    "name": "ipython",
    "version": 3
   },
   "file_extension": ".py",
   "mimetype": "text/x-python",
   "name": "python",
   "nbconvert_exporter": "python",
   "pygments_lexer": "ipython3",
   "version": "3.7.3"
  }
 },
 "nbformat": 4,
 "nbformat_minor": 2
}
