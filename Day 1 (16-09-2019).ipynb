{
 "cells": [
  {
   "cell_type": "markdown",
   "metadata": {},
   "source": [
    "# python programming and markdown\n",
    "## Python Programming and markdown\n",
    "### Python Programming and markdown\n",
    "#### Python Programming and markdown\n",
    "##### Python Programming and markdown"
   ]
  },
  {
   "cell_type": "markdown",
   "metadata": {},
   "source": [
    "### Python programming  \n",
    "- point 1\n",
    "     - point 11\n",
    "- point 2\n",
    "     - point 21\n",
    "     - point 22\n",
    "- point 3"
   ]
  },
  {
   "cell_type": "markdown",
   "metadata": {},
   "source": [
    "<img src='Python.png' />"
   ]
  },
  {
   "cell_type": "markdown",
   "metadata": {},
   "source": [
    "* **point1**\n",
    "* *point1*\n",
    "* ***point1***"
   ]
  },
  {
   "cell_type": "code",
   "execution_count": 2,
   "metadata": {},
   "outputs": [
    {
     "name": "stdout",
     "output_type": "stream",
     "text": [
      "hello gitam\n"
     ]
    }
   ],
   "source": [
    "print ('hello gitam')"
   ]
  },
  {
   "cell_type": "code",
   "execution_count": 8,
   "metadata": {},
   "outputs": [
    {
     "name": "stdout",
     "output_type": "stream",
     "text": [
      "hello gitam\n",
      "vizag\n"
     ]
    }
   ],
   "source": [
    "print('hello gitam')\n",
    "print('vizag')"
   ]
  },
  {
   "cell_type": "code",
   "execution_count": 3,
   "metadata": {},
   "outputs": [
    {
     "name": "stdout",
     "output_type": "stream",
     "text": [
      "100\n",
      "python Programming\n",
      "a\n",
      "<class 'int'>\n",
      "<class 'str'>\n",
      "<class 'str'>\n",
      "<class 'str'>\n"
     ]
    }
   ],
   "source": [
    "a =100\n",
    "s ='python Programming'\n",
    "s1 =\"python programming\"\n",
    "s2 = 'a'\n",
    "print (a)\n",
    "print (s)\n",
    "print (s2)\n",
    "print (type(a))\n",
    "print (type(s))\n",
    "print (type(s1))\n",
    "print (type(s2))\n",
    "\n"
   ]
  },
  {
   "cell_type": "markdown",
   "metadata": {},
   "source": [
    "# Data type Conversion\n",
    "- int()\n",
    "- float()\n",
    "- str()"
   ]
  },
  {
   "cell_type": "code",
   "execution_count": null,
   "metadata": {},
   "outputs": [],
   "source": []
  },
  {
   "cell_type": "code",
   "execution_count": 6,
   "metadata": {},
   "outputs": [
    {
     "name": "stdout",
     "output_type": "stream",
     "text": [
      "100.123 <class 'str'>\n",
      "100.123 <class 'float'>\n",
      "100 <class 'int'>\n"
     ]
    }
   ],
   "source": [
    "s1 = \"100.123\"\n",
    "print(s1,end=\" \")\n",
    "print(type(s1))\n",
    "a1 = float(s1)\n",
    "print(a1,end =' ')\n",
    "print(type(a1))\n",
    "a2 = int(a1)\n",
    "print(a2,end = ' ')\n",
    "print(type(a2))\n"
   ]
  },
  {
   "cell_type": "code",
   "execution_count": 8,
   "metadata": {},
   "outputs": [
    {
     "name": "stdout",
     "output_type": "stream",
     "text": [
      "5\n"
     ]
    }
   ],
   "source": [
    "# Digit count of a number \n",
    "a = 12345\n",
    "print(len(str(a)))"
   ]
  },
  {
   "cell_type": "markdown",
   "metadata": {},
   "source": [
    "### input() function\n",
    "- Read the input to the python program\n",
    "- Reads the input in terms of a string format"
   ]
  },
  {
   "cell_type": "code",
   "execution_count": 1,
   "metadata": {},
   "outputs": [
    {
     "name": "stdout",
     "output_type": "stream",
     "text": [
      "Enter your namesaireddy\n",
      "saireddy <class 'str'>\n"
     ]
    }
   ],
   "source": [
    "s1 = input('Enter your name')\n",
    "print(s1,type(s1))"
   ]
  },
  {
   "cell_type": "code",
   "execution_count": 2,
   "metadata": {},
   "outputs": [
    {
     "name": "stdout",
     "output_type": "stream",
     "text": [
      "Enter a number100\n",
      "100 <class 'int'>\n"
     ]
    }
   ],
   "source": [
    "a1 = int(input('Enter a number'))\n",
    "print(a1,type(a1))"
   ]
  },
  {
   "cell_type": "code",
   "execution_count": null,
   "metadata": {},
   "outputs": [],
   "source": [
    "a1 = "
   ]
  },
  {
   "cell_type": "markdown",
   "metadata": {},
   "source": [
    "###  Operators\n",
    "- +\n",
    "- -\n",
    "- *\n",
    "- /\n",
    "- %\n",
    "- //"
   ]
  },
  {
   "cell_type": "code",
   "execution_count": 5,
   "metadata": {},
   "outputs": [
    {
     "name": "stdout",
     "output_type": "stream",
     "text": [
      "3.3333333333333335\n",
      "3\n",
      "8\n"
     ]
    }
   ],
   "source": [
    "print(10/3)\n",
    "print(10//3)\n",
    "print(2**3)"
   ]
  },
  {
   "cell_type": "code",
   "execution_count": 7,
   "metadata": {},
   "outputs": [
    {
     "name": "stdout",
     "output_type": "stream",
     "text": [
      "8.0\n"
     ]
    }
   ],
   "source": [
    "# preceding Levels of Operators\n",
    "# Power, Division, Addition\n",
    "x = 1 + 2 ** 3 / 4 + 5\n",
    "print(x)"
   ]
  },
  {
   "cell_type": "markdown",
   "metadata": {},
   "source": [
    "### Logical Operators\n",
    "- and\n",
    "- or\n",
    "- not"
   ]
  },
  {
   "cell_type": "code",
   "execution_count": 9,
   "metadata": {},
   "outputs": [
    {
     "name": "stdout",
     "output_type": "stream",
     "text": [
      "True <class 'bool'>\n",
      "False <class 'bool'>\n"
     ]
    }
   ],
   "source": [
    "a = 10\n",
    "b = (a > 9) and (a >= 10)\n",
    "print(b,type(b))\n",
    "b = (a > 9) and (a > 10)\n",
    "print(b,type(b))"
   ]
  },
  {
   "cell_type": "markdown",
   "metadata": {},
   "source": [
    "### Control flow Statements\n",
    "- Conditional Statements\n",
    "   - if-else\n",
    "- Looping Statements\n",
    "  - While\n",
    "  - for"
   ]
  },
  {
   "cell_type": "code",
   "execution_count": 15,
   "metadata": {},
   "outputs": [
    {
     "name": "stdout",
     "output_type": "stream",
     "text": [
      "10\n",
      "Even\n"
     ]
    }
   ],
   "source": [
    "# Read a number as input\n",
    "# print the output as Even or Odd\n",
    "a1 = int(input(''))\n",
    "if a1%2 == 0:\n",
    "    print('Even')\n",
    "else:\n",
    "    print('Odd')"
   ]
  },
  {
   "cell_type": "code",
   "execution_count": 14,
   "metadata": {},
   "outputs": [
    {
     "name": "stdout",
     "output_type": "stream",
     "text": [
      " 0\n",
      "Zero\n"
     ]
    }
   ],
   "source": [
    "a2 = int(input(' '))\n",
    "if a2 == 0:\n",
    "    print('Zero')\n",
    "elif a2 > 0:\n",
    "    print('positive number')\n",
    "elif a2 < 0:\n",
    "    print('negative number')"
   ]
  },
  {
   "cell_type": "code",
   "execution_count": null,
   "metadata": {},
   "outputs": [],
   "source": []
  },
  {
   "cell_type": "code",
   "execution_count": null,
   "metadata": {},
   "outputs": [],
   "source": []
  },
  {
   "cell_type": "code",
   "execution_count": null,
   "metadata": {},
   "outputs": [],
   "source": []
  },
  {
   "cell_type": "code",
   "execution_count": null,
   "metadata": {},
   "outputs": [],
   "source": []
  }
 ],
 "metadata": {
  "kernelspec": {
   "display_name": "Python 3",
   "language": "python",
   "name": "python3"
  },
  "language_info": {
   "codemirror_mode": {
    "name": "ipython",
    "version": 3
   },
   "file_extension": ".py",
   "mimetype": "text/x-python",
   "name": "python",
   "nbconvert_exporter": "python",
   "pygments_lexer": "ipython3",
   "version": "3.7.3"
  }
 },
 "nbformat": 4,
 "nbformat_minor": 2
}
