{
 "cells": [
  {
   "cell_type": "markdown",
   "metadata": {},
   "source": [
    "## Strings Function\n",
    "- Upper() -- Will convert the input string into Upper case \n",
    "- lower() -- Will convert the input string into lower case"
   ]
  },
  {
   "cell_type": "code",
   "execution_count": 2,
   "metadata": {},
   "outputs": [
    {
     "name": "stdout",
     "output_type": "stream",
     "text": [
      "PYTHON\n",
      "python\n"
     ]
    }
   ],
   "source": [
    "s1 = 'python'\n",
    "print(s1.upper())\n",
    "print(s1.lower())"
   ]
  },
  {
   "cell_type": "markdown",
   "metadata": {},
   "source": [
    "### String Boolean Function\n",
    "- True or False \n",
    "- islower() --True if the string have all characters lower case\n",
    "- isupper() --True if the string have all characters upper case\n",
    "- istitle() -- True if the string in the title case\n",
    "- isnumber() -- True if the string numeric\n",
    "- isalpha() -- True if the string is only alphabets\n",
    "- isspace() -- True if the string  is space"
   ]
  },
  {
   "cell_type": "code",
   "execution_count": 3,
   "metadata": {},
   "outputs": [
    {
     "name": "stdout",
     "output_type": "stream",
     "text": [
      "True\n",
      "False\n"
     ]
    }
   ],
   "source": [
    "s1 = \"python\"\n",
    "print(s1.islower())\n",
    "print(s1.isupper())"
   ]
  },
  {
   "cell_type": "code",
   "execution_count": 5,
   "metadata": {},
   "outputs": [
    {
     "name": "stdout",
     "output_type": "stream",
     "text": [
      "False\n"
     ]
    }
   ],
   "source": [
    "s1 = \"python programming\"\n",
    "print(s1.istitle())"
   ]
  },
  {
   "cell_type": "code",
   "execution_count": 6,
   "metadata": {},
   "outputs": [
    {
     "name": "stdout",
     "output_type": "stream",
     "text": [
      "True\n",
      "False\n"
     ]
    }
   ],
   "source": [
    "s1 = \"12345\"\n",
    "s2 = \"Py123\"\n",
    "print(s1.isnumeric())\n",
    "print(s2.isnumeric())"
   ]
  },
  {
   "cell_type": "code",
   "execution_count": 8,
   "metadata": {},
   "outputs": [
    {
     "name": "stdout",
     "output_type": "stream",
     "text": [
      "False\n",
      "True\n"
     ]
    }
   ],
   "source": [
    "s1 = \"py12345\"\n",
    "s2 = \"python\"\n",
    "print(s1.isalpha())\n",
    "print(s2.isalpha())"
   ]
  },
  {
   "cell_type": "code",
   "execution_count": 10,
   "metadata": {},
   "outputs": [
    {
     "name": "stdout",
     "output_type": "stream",
     "text": [
      "False\n",
      "True\n"
     ]
    }
   ],
   "source": [
    "s1 = \"python\"\n",
    "s2 = \" \"\n",
    "print(s1.isspace())\n",
    "print(s2.isspace())"
   ]
  },
  {
   "cell_type": "markdown",
   "metadata": {},
   "source": [
    "## String Methods\n",
    "- split() -- returns the list of string separated by whitespace\n",
    "- replace() -- return the string replace by word/character\n",
    "- join() -- Concatination of tw strings"
   ]
  },
  {
   "cell_type": "code",
   "execution_count": 15,
   "metadata": {},
   "outputs": [
    {
     "name": "stdout",
     "output_type": "stream",
     "text": [
      "['python', 'programming', 'learn', 'made', 'easy']\n"
     ]
    }
   ],
   "source": [
    "s1 = \"python programming learn made easy\"\n",
    "li = s1.split() # default is white space\n",
    "print(li)"
   ]
  },
  {
   "cell_type": "code",
   "execution_count": 16,
   "metadata": {},
   "outputs": [
    {
     "name": "stdout",
     "output_type": "stream",
     "text": [
      "['python progr', 'mming le', 'rn m', 'de e', 'sy']\n"
     ]
    }
   ],
   "source": [
    "s1 = \"python programming learn made easy\"\n",
    "li = s1.split('a')\n",
    "print(li)"
   ]
  },
  {
   "cell_type": "code",
   "execution_count": 17,
   "metadata": {},
   "outputs": [
    {
     "name": "stdout",
     "output_type": "stream",
     "text": [
      "python-programming-learn-made-easy\n"
     ]
    }
   ],
   "source": [
    "s1 = \"python programming learn made easy\"\n",
    "print(s1.replace(' ','-'))"
   ]
  },
  {
   "cell_type": "code",
   "execution_count": 20,
   "metadata": {},
   "outputs": [
    {
     "name": "stdout",
     "output_type": "stream",
     "text": [
      "python progr@mming le@rn m@de e@sy\n"
     ]
    }
   ],
   "source": [
    "s1 = \"python programming learn made easy\"\n",
    "print(s1.replace('a','@'))"
   ]
  },
  {
   "cell_type": "code",
   "execution_count": 23,
   "metadata": {},
   "outputs": [
    {
     "name": "stdout",
     "output_type": "stream",
     "text": [
      "P y t h o n\n"
     ]
    }
   ],
   "source": [
    "s1 = \"Python\"\n",
    "print(\" \".join(s1))"
   ]
  },
  {
   "cell_type": "markdown",
   "metadata": {},
   "source": [
    "## String Formatting\n",
    "- Classic version\n",
    "- Current Version python"
   ]
  },
  {
   "cell_type": "code",
   "execution_count": 25,
   "metadata": {},
   "outputs": [
    {
     "name": "stdout",
     "output_type": "stream",
     "text": [
      "Python programing\n"
     ]
    }
   ],
   "source": [
    "# c or c++ \n",
    "li = [\"Python\",\"programing\"]\n",
    "print('%s %s' % (li[0],li[1]))"
   ]
  },
  {
   "cell_type": "code",
   "execution_count": 26,
   "metadata": {},
   "outputs": [
    {
     "name": "stdout",
     "output_type": "stream",
     "text": [
      "1 2 3 4\n"
     ]
    }
   ],
   "source": [
    "li = [1,2,3,4]\n",
    "print('%d %d %d %d'% (li[0],li[1],li[2],li[3]))"
   ]
  },
  {
   "cell_type": "code",
   "execution_count": 29,
   "metadata": {},
   "outputs": [
    {
     "name": "stdout",
     "output_type": "stream",
     "text": [
      "List Item 0 : python \n",
      "List Item 1: programming\n"
     ]
    }
   ],
   "source": [
    "# .format\n",
    "li = [\"python\",\"programming\"]\n",
    "print(\"List Item 0 : {0} \\nList Item 1: {1}\".format(li[0],li[1]))"
   ]
  },
  {
   "cell_type": "code",
   "execution_count": 30,
   "metadata": {},
   "outputs": [
    {
     "name": "stdout",
     "output_type": "stream",
     "text": [
      "1 2 3 4\n"
     ]
    }
   ],
   "source": [
    "li = [1,2,3,4]\n",
    "print('{0} {1} {2} {3}'.format(li[0],li[1],li[2],li[3]))"
   ]
  },
  {
   "cell_type": "markdown",
   "metadata": {},
   "source": [
    "### Data Structure\n",
    "- List\n",
    "- Tuples\n",
    "- Dictionaries"
   ]
  },
  {
   "cell_type": "markdown",
   "metadata": {},
   "source": [
    "### Dictionaries\n",
    "- It Works on concept of Unique Data \n",
    "- Key,value is the unique Identifier a value \n",
    "- Each key is separted from value colon(:)\n",
    "- Each Key and value is separeted by comma(,)\n",
    "- Dicitonaries are enclosed with curly brackets({})\n"
   ]
  },
  {
   "cell_type": "code",
   "execution_count": 35,
   "metadata": {},
   "outputs": [
    {
     "name": "stdout",
     "output_type": "stream",
     "text": [
      "{'Name': 'Gitam', 'Emailid': 'saireddyc1997@gmail.com', 'Address': 'Vizag'}\n"
     ]
    }
   ],
   "source": [
    "d1 = {\"Name\":\"Gitam\",\"Emailid\":\"saireddyc1997@gmail.com\",\"Address\":\"Vizag\"}\n",
    "print(d1)"
   ]
  },
  {
   "cell_type": "code",
   "execution_count": 37,
   "metadata": {},
   "outputs": [
    {
     "data": {
      "text/plain": [
       "'saireddyc1997@gmail.com'"
      ]
     },
     "execution_count": 37,
     "metadata": {},
     "output_type": "execute_result"
    }
   ],
   "source": [
    "d1[\"Emailid\"]"
   ]
  },
  {
   "cell_type": "code",
   "execution_count": 38,
   "metadata": {},
   "outputs": [],
   "source": [
    "d1[\"Emailid\"] = \"Gitam@hotmail.com\" #Update the value using key"
   ]
  },
  {
   "cell_type": "markdown",
   "metadata": {},
   "source": [
    "## Contact Application\n",
    "- Add Contact Details\n",
    "- search the contacts details\n",
    "- List all the contacts(Merg/import)\n",
    "   - name1 : value\n",
    "   - name2 : value\n",
    "- Modifier or Upadte the contacts\n",
    "- Delete the contacts"
   ]
  },
  {
   "cell_type": "code",
   "execution_count": 84,
   "metadata": {},
   "outputs": [
    {
     "name": "stdout",
     "output_type": "stream",
     "text": [
      "contact Details are added successfully\n",
      "contact Details are added successfully\n"
     ]
    }
   ],
   "source": [
    "contact = {} # Empty Dict Object \n",
    "# let's Create a function to Add Contact Details\n",
    "def addContact(name,phone):\n",
    "    if name not in contact: # Cond to check name is exit or not\n",
    "        contact[name] = phone\n",
    "        print('contact Details are added successfully')\n",
    "    else:\n",
    "        print('Name is already exists')\n",
    "    return\n",
    "addContact('sai','9502705559')\n",
    "addContact('pk','9999999999')"
   ]
  },
  {
   "cell_type": "code",
   "execution_count": 85,
   "metadata": {},
   "outputs": [
    {
     "name": "stdout",
     "output_type": "stream",
     "text": [
      "sai :  9502705559\n",
      "pk :  9999999999\n",
      "ajay does not present\n"
     ]
    }
   ],
   "source": [
    "def searchContact(name):\n",
    "    if name in contact:\n",
    "        print(name, \": \",contact[name])\n",
    "    else:\n",
    "        print('{0} does not present'.format(name))\n",
    "        #print('%s does not present' % name)\n",
    "    return\n",
    "searchContact('sai')\n",
    "searchContact('pk')\n",
    "searchContact('ajay')"
   ]
  },
  {
   "cell_type": "code",
   "execution_count": 86,
   "metadata": {},
   "outputs": [
    {
     "name": "stdout",
     "output_type": "stream",
     "text": [
      "3 contact are added\n"
     ]
    }
   ],
   "source": [
    "# Import new conttact details\n",
    "# Merge the previous details with new details\n",
    "def importContact(newContact):\n",
    "    contact.update(newContact)\n",
    "    print(len(newContact.keys()),'contact are added')\n",
    "    return\n",
    "newContact={'Gitam':9999999999,'anil':121822501014,'python':32145678}\n",
    "importContact(newContact)"
   ]
  },
  {
   "cell_type": "code",
   "execution_count": 87,
   "metadata": {},
   "outputs": [
    {
     "data": {
      "text/plain": [
       "{'sai': '9502705559',\n",
       " 'pk': '9999999999',\n",
       " 'Gitam': 9999999999,\n",
       " 'anil': 121822501014,\n",
       " 'python': 32145678}"
      ]
     },
     "execution_count": 87,
     "metadata": {},
     "output_type": "execute_result"
    }
   ],
   "source": [
    "contact"
   ]
  },
  {
   "cell_type": "code",
   "execution_count": 88,
   "metadata": {},
   "outputs": [
    {
     "name": "stdout",
     "output_type": "stream",
     "text": [
      "sai Updated Successfully\n",
      "naveen Not exists\n"
     ]
    }
   ],
   "source": [
    "def modifyContact(name,phone):\n",
    "    if name in contact:\n",
    "        contact[name] = phone\n",
    "        print(name,'Updated Successfully')\n",
    "    else:\n",
    "        print(name,'Not exists')\n",
    "    return\n",
    "modifyContact('sai',9502705559)\n",
    "modifyContact('naveen',12345678990)"
   ]
  },
  {
   "cell_type": "code",
   "execution_count": 89,
   "metadata": {},
   "outputs": [
    {
     "name": "stdout",
     "output_type": "stream",
     "text": [
      "Gitam Deleted sucessfully\n"
     ]
    }
   ],
   "source": [
    "def deleteContact(name):\n",
    "    if name in contact:\n",
    "        del contact[name]\n",
    "        print(name,'Deleted sucessfully')\n",
    "    else:\n",
    "        print(name,'Not present')\n",
    "    return\n",
    "deleteContact('Gitam')    "
   ]
  },
  {
   "cell_type": "code",
   "execution_count": 90,
   "metadata": {},
   "outputs": [
    {
     "data": {
      "text/plain": [
       "{'sai': 9502705559,\n",
       " 'pk': '9999999999',\n",
       " 'anil': 121822501014,\n",
       " 'python': 32145678}"
      ]
     },
     "execution_count": 90,
     "metadata": {},
     "output_type": "execute_result"
    }
   ],
   "source": [
    "contact"
   ]
  },
  {
   "cell_type": "markdown",
   "metadata": {},
   "source": [
    "### Tuples\n",
    "- Tuples enclosed with Parenthesis()\n",
    "\n",
    "### Differences between Tuples and List\n",
    "    - List are mutable -- can be changed / Modify\n",
    "       - read and write the data\n",
    "    - Tuples are immutable -- can't be changed / modified\n",
    "        - Read Data Only\n",
    "        \n",
    "    \n"
   ]
  },
  {
   "cell_type": "code",
   "execution_count": 94,
   "metadata": {},
   "outputs": [
    {
     "name": "stdout",
     "output_type": "stream",
     "text": [
      "(2, 1)\n"
     ]
    }
   ],
   "source": [
    "t1 = (1,2,3,4,5)\n",
    "print(t1[1::-1])"
   ]
  },
  {
   "cell_type": "markdown",
   "metadata": {},
   "source": [
    "## Standard Libraries\n",
    "- Regular Expression\n",
    "  - To Validate the Indian Mobile\n",
    "  - To Validate the EMailID\n",
    "  - To Validate the Username\n",
    "  - To Validate the Password\n",
    "- Understanding the Regular Expressions\n",
    "   - [0-9] -- Any digit Matching\n",
    "   - [a-z] -- Any lower case Matching\n",
    "   - [A-Z] -- any upper case matching\n",
    "   - cap symbol is used to represent the start of regular expresions \n",
    "   - "
   ]
  },
  {
   "cell_type": "code",
   "execution_count": 93,
   "metadata": {},
   "outputs": [
    {
     "name": "stdout",
     "output_type": "stream",
     "text": [
      "True\n",
      "True\n"
     ]
    }
   ],
   "source": [
    "# function to test the two digit number has input\n",
    "# true -- input two digit number\n",
    "# false -- input not a two digit number\n",
    "import re\n",
    "def twoDigitMatching(n):\n",
    "   pattern = '^[0-9]{2}$'\n",
    "   n = str(n)\n",
    "   if re.match(pattern,n):\n",
    "       return True\n",
    "   return False\n",
    "print(twoDigitMatching(12)) # True\n",
    "print(twoDigitMatching(12)) # False"
   ]
  },
  {
   "cell_type": "code",
   "execution_count": 10,
   "metadata": {},
   "outputs": [
    {
     "name": "stdout",
     "output_type": "stream",
     "text": [
      "True\n",
      "False\n",
      "False\n"
     ]
    }
   ],
   "source": [
    "# Regular Expression for username\n",
    "# username -- Should contains Lower and Upper case characters\n",
    "# Length --- min 5 Max 12\n",
    "def validateUsername(s):\n",
    "    pattern = '^[a-zA-Z]{5,12}$'\n",
    "    if re.match(pattern,s):\n",
    "        return True\n",
    "    return False \n",
    "print(validateUsername('Anilkumar')) # True\n",
    "print(validateUsername('Anil')) # False\n",
    "print(validateUsername('GitamVizagpythonprogramming')) # False"
   ]
  },
  {
   "cell_type": "code",
   "execution_count": 11,
   "metadata": {},
   "outputs": [],
   "source": [
    "# Rule 1 : ^[6-9][0-9]{9}$\n",
    "# Rule 2 : ^[0][6-9][0-9]{9}$\n",
    "# Rule 3 : ^[+][9][1][6-9][0-9]{9}$"
   ]
  },
  {
   "cell_type": "code",
   "execution_count": 12,
   "metadata": {},
   "outputs": [
    {
     "data": {
      "text/plain": [
       "True"
      ]
     },
     "execution_count": 12,
     "metadata": {},
     "output_type": "execute_result"
    }
   ],
   "source": [
    "import re\n",
    "def validateindianphone(n):\n",
    "    pattern = '^[6-9][0-9]{9}$|^[0][6-9][0-9]{9}$|^[+][9][1][6-9][0-9]{9}$'\n",
    "    n=str(n)\n",
    "    if re.match(pattern,n):\n",
    "        return True\n",
    "    return False\n",
    "validateindianphone('+919988775566') # true"
   ]
  },
  {
   "cell_type": "markdown",
   "metadata": {},
   "source": [
    "### Validate the EmailID\n",
    "- Example : Username@DomainName.extension\n",
    "- Example : dsps@gmail.com\n",
    "- Username :\n",
    "        - Len of the string will be [6-15]\n",
    "        - No spl characters except underscore(_)\n",
    "        - Username should not begins with underscore(_)\n",
    "        - All characters set digits,lower case and upper case\n",
    "            - ex: anil_1889\n",
    "- DomainName :\n",
    "        - len of string will be [3-18]\n",
    "        - no spls Characters \n",
    "        - Characters set will be Digits Lower case and upper Case\n",
    "           - Example : gmail,hotmail,ymail,rediff and etc...\n",
    "- Extensions :\n",
    "        - Len of the string will be [2-4]\n",
    "        - No sp; character allowed \n",
    "        - Character set will be Lower case characters\n",
    "           - Example : com in au uk"
   ]
  },
  {
   "cell_type": "code",
   "execution_count": 13,
   "metadata": {},
   "outputs": [],
   "source": [
    "# Username    RE : [0-9a-zA-Z][0-9a-zA-Z_.]{5,14}\n",
    "# Domain Name RE : [a-z0-9]{3,18}\n",
    "# Extension   RE : [a-z]{2-4}\n",
    "# EmailID     RE : ^[0-9a-zA-z][0-9a-zA-z_.]{5,14}[@][a-z0-9]{3,18}[.][a-z]{2-4}$\n"
   ]
  },
  {
   "cell_type": "code",
   "execution_count": 24,
   "metadata": {},
   "outputs": [
    {
     "data": {
      "text/plain": [
       "True"
      ]
     },
     "execution_count": 24,
     "metadata": {},
     "output_type": "execute_result"
    }
   ],
   "source": [
    "def validateEmail(email):\n",
    "    pattern = '^[0-9a-zA-z][0-9a-zA-z_.]{5,14}[@][a-z0-9]{3,18}[.][a-z]{2,4}$'\n",
    "    if re.match(pattern,email):\n",
    "        return True\n",
    "    return False\n",
    "validateEmail('anilkumar1889@hotmail.com')"
   ]
  },
  {
   "cell_type": "markdown",
   "metadata": {},
   "source": [
    "###   Python Graphis\n",
    "- lib - turtle"
   ]
  },
  {
   "cell_type": "markdown",
   "metadata": {},
   "source": [
    "### Package,Module and Sub package\n",
    "### Package\n",
    " - A collection of Module (Single Pytho file .py)\n",
    "#### Module\n",
    "   - A single python file  contains group of functions\n",
    "   - packages -> Sub package -> Module -> Function"
   ]
  },
  {
   "cell_type": "code",
   "execution_count": 35,
   "metadata": {},
   "outputs": [
    {
     "data": {
      "text/plain": [
       "123"
      ]
     },
     "execution_count": 35,
     "metadata": {},
     "output_type": "execute_result"
    }
   ],
   "source": [
    "import math # imports all the function into python program\n",
    "math.floor(123.456)"
   ]
  },
  {
   "cell_type": "code",
   "execution_count": 36,
   "metadata": {},
   "outputs": [
    {
     "data": {
      "text/plain": [
       "124"
      ]
     },
     "execution_count": 36,
     "metadata": {},
     "output_type": "execute_result"
    }
   ],
   "source": [
    "math.ceil(123.456)"
   ]
  },
  {
   "cell_type": "code",
   "execution_count": 37,
   "metadata": {},
   "outputs": [
    {
     "data": {
      "text/plain": [
       "3628800"
      ]
     },
     "execution_count": 37,
     "metadata": {},
     "output_type": "execute_result"
    }
   ],
   "source": [
    "from math import factorial as fact # Will imports only specific function\n",
    "# as fact alias name\n",
    "fact(10)"
   ]
  },
  {
   "cell_type": "code",
   "execution_count": 38,
   "metadata": {},
   "outputs": [
    {
     "data": {
      "text/plain": [
       "5"
      ]
     },
     "execution_count": 38,
     "metadata": {},
     "output_type": "execute_result"
    }
   ],
   "source": [
    "from math import gcd as gcd\n",
    "gcd(10,15)"
   ]
  },
  {
   "cell_type": "code",
   "execution_count": 74,
   "metadata": {},
   "outputs": [
    {
     "name": "stdout",
     "output_type": "stream",
     "text": [
      "82 85 85 46 78 93 67 63 81 77 "
     ]
    }
   ],
   "source": [
    "# import random package\n",
    "import random\n",
    "# function to generate the N number in given range\n",
    "def generateRandNum(n,lb,ub):\n",
    "    for i in range(0,n):\n",
    "        print(random.randint(lb,ub),end=' ')\n",
    "    return\n",
    "generateRandNum(10,0,100)"
   ]
  },
  {
   "cell_type": "code",
   "execution_count": 81,
   "metadata": {},
   "outputs": [
    {
     "name": "stdout",
     "output_type": "stream",
     "text": [
      "Try Again!!!\n"
     ]
    }
   ],
   "source": [
    "# Create a simple game\n",
    "# try to generate 20 numbers\n",
    "# input : Number\n",
    "# present : Congrats !!!\n",
    "# Not present : try again\n",
    "from random import randint as rdint\n",
    "def generateNumber(n,lb,ub):\n",
    "    li = []\n",
    "    for i in range(0,n):\n",
    "        li.append(rdint(lb,ub))\n",
    "    return li\n",
    "def check(n):\n",
    "    li = generateNumber(20,100,999)\n",
    "    if n in li:\n",
    "        print('Congrats!!!')\n",
    "    else:\n",
    "        print('Try Again!!!')\n",
    "    return\n",
    "check(569)`"
   ]
  },
  {
   "cell_type": "code",
   "execution_count": null,
   "metadata": {},
   "outputs": [],
   "source": [
    "    "
   ]
  },
  {
   "cell_type": "code",
   "execution_count": null,
   "metadata": {},
   "outputs": [],
   "source": []
  },
  {
   "cell_type": "code",
   "execution_count": null,
   "metadata": {},
   "outputs": [],
   "source": []
  },
  {
   "cell_type": "code",
   "execution_count": null,
   "metadata": {},
   "outputs": [],
   "source": []
  },
  {
   "cell_type": "code",
   "execution_count": null,
   "metadata": {},
   "outputs": [],
   "source": []
  }
 ],
 "metadata": {
  "kernelspec": {
   "display_name": "Python 3",
   "language": "python",
   "name": "python3"
  },
  "language_info": {
   "codemirror_mode": {
    "name": "ipython",
    "version": 3
   },
   "file_extension": ".py",
   "mimetype": "text/x-python",
   "name": "python",
   "nbconvert_exporter": "python",
   "pygments_lexer": "ipython3",
   "version": "3.7.3"
  }
 },
 "nbformat": 4,
 "nbformat_minor": 2
}
